{
 "cells": [
  {
   "cell_type": "code",
   "execution_count": 1,
   "id": "50fa70ce-544b-41f1-90e9-a22e0a17b956",
   "metadata": {},
   "outputs": [],
   "source": [
    "%load_ext autoreload\n",
    "%autoreload 2"
   ]
  },
  {
   "cell_type": "markdown",
   "id": "6f813795-912a-4740-91c4-2efe9e7b8942",
   "metadata": {},
   "source": [
    "# Synthetic Data"
   ]
  },
  {
   "cell_type": "markdown",
   "id": "7f9d1735-e55d-4603-bb81-71b9d8bc964a",
   "metadata": {},
   "source": [
    "## Generate"
   ]
  },
  {
   "cell_type": "code",
   "execution_count": 2,
   "id": "e55265b7-7d5d-4dfd-86f3-801cb90c7e72",
   "metadata": {},
   "outputs": [
    {
     "data": {
      "text/html": [
       "<div>\n",
       "<style scoped>\n",
       "    .dataframe tbody tr th:only-of-type {\n",
       "        vertical-align: middle;\n",
       "    }\n",
       "\n",
       "    .dataframe tbody tr th {\n",
       "        vertical-align: top;\n",
       "    }\n",
       "\n",
       "    .dataframe thead th {\n",
       "        text-align: right;\n",
       "    }\n",
       "</style>\n",
       "<table border=\"1\" class=\"dataframe\">\n",
       "  <thead>\n",
       "    <tr style=\"text-align: right;\">\n",
       "      <th></th>\n",
       "      <th>uuid</th>\n",
       "      <th>group</th>\n",
       "      <th>true_score</th>\n",
       "      <th>pred_score</th>\n",
       "      <th>true_label</th>\n",
       "      <th>pred_label</th>\n",
       "    </tr>\n",
       "  </thead>\n",
       "  <tbody>\n",
       "    <tr>\n",
       "      <th>37946</th>\n",
       "      <td>61690248984788657218284987529151945635</td>\n",
       "      <td>0</td>\n",
       "      <td>0.897985</td>\n",
       "      <td>1.856003</td>\n",
       "      <td>1</td>\n",
       "      <td>1</td>\n",
       "    </tr>\n",
       "    <tr>\n",
       "      <th>4589</th>\n",
       "      <td>313863767218095658908289679367809502023</td>\n",
       "      <td>1</td>\n",
       "      <td>-0.221229</td>\n",
       "      <td>-2.008019</td>\n",
       "      <td>0</td>\n",
       "      <td>0</td>\n",
       "    </tr>\n",
       "    <tr>\n",
       "      <th>3166</th>\n",
       "      <td>54831838391621729574676657023165588603</td>\n",
       "      <td>0</td>\n",
       "      <td>2.361094</td>\n",
       "      <td>3.257432</td>\n",
       "      <td>1</td>\n",
       "      <td>1</td>\n",
       "    </tr>\n",
       "    <tr>\n",
       "      <th>17204</th>\n",
       "      <td>227503409615892428828483690159797022919</td>\n",
       "      <td>1</td>\n",
       "      <td>-0.124138</td>\n",
       "      <td>-2.095224</td>\n",
       "      <td>0</td>\n",
       "      <td>0</td>\n",
       "    </tr>\n",
       "    <tr>\n",
       "      <th>46899</th>\n",
       "      <td>61559048902492163868108324151274561739</td>\n",
       "      <td>1</td>\n",
       "      <td>-1.730384</td>\n",
       "      <td>-3.377135</td>\n",
       "      <td>0</td>\n",
       "      <td>0</td>\n",
       "    </tr>\n",
       "  </tbody>\n",
       "</table>\n",
       "</div>"
      ],
      "text/plain": [
       "                                          uuid group  true_score  pred_score  \\\n",
       "37946   61690248984788657218284987529151945635     0    0.897985    1.856003   \n",
       "4589   313863767218095658908289679367809502023     1   -0.221229   -2.008019   \n",
       "3166    54831838391621729574676657023165588603     0    2.361094    3.257432   \n",
       "17204  227503409615892428828483690159797022919     1   -0.124138   -2.095224   \n",
       "46899   61559048902492163868108324151274561739     1   -1.730384   -3.377135   \n",
       "\n",
       "       true_label  pred_label  \n",
       "37946           1           1  \n",
       "4589            0           0  \n",
       "3166            1           1  \n",
       "17204           0           0  \n",
       "46899           0           0  "
      ]
     },
     "execution_count": 2,
     "metadata": {},
     "output_type": "execute_result"
    }
   ],
   "source": [
    "from faim.data_preparation.synthetic import NormalSyntheticGroupedDatasetBuilder\n",
    "import numpy as np\n",
    "from numpy.random import PCG64, Generator\n",
    "\n",
    "\n",
    "random_generator = Generator(PCG64(4))\n",
    "group_names=[\"privileged\", \"disadvantaged\"]\n",
    "synth_data_builder = NormalSyntheticGroupedDatasetBuilder(\n",
    "    group_names=group_names,\n",
    "    n_by_group=[50000, 50000],\n",
    "    truth_prediction_means_by_group=[np.array([1, 2]), np.array([-1, -3]),],\n",
    "    truth_prediction_correlation_matrixs_by_group=[\n",
    "        np.array([[1, 0.8], [0.8, 1]]),\n",
    "        np.array([[1, 0.8], [0.8, 1]]),\n",
    "    ],\n",
    "    random_generator=random_generator\n",
    ")\n",
    "synth_data = synth_data_builder.build()\n",
    "synth_data.head()"
   ]
  },
  {
   "cell_type": "markdown",
   "id": "f07d51ad-406c-4f33-9739-3e823312d578",
   "metadata": {},
   "source": [
    "## Figure 1"
   ]
  },
  {
   "cell_type": "code",
   "execution_count": null,
   "id": "32d330d9-8104-47c5-ac93-7c1888143def",
   "metadata": {},
   "outputs": [],
   "source": [
    "from copy import deepcopy\n",
    "import seaborn as sns\n",
    "import matplotlib.pyplot as plt\n",
    "\n",
    "sns.color_palette(\"tab10\")\n",
    "\n",
    "plot_data = deepcopy(synth_data)\n",
    "plot_data[\"group\"] = plot_data.group.map(lambda idx: group_names[idx])\n",
    "\n",
    "fig, ax = plt.subplots()\n",
    "sns.kdeplot(data=plot_data, x=\"pred_score\", hue=\"group\", linestyle=\"--\", ax=ax)\n",
    "sns.kdeplot(data=plot_data, x=\"true_score\", hue=\"group\", linestyle=\"-\", ax=ax)\n",
    "_ = ax.set_ylabel(\"probability density\")\n",
    "_ = ax.set_xlim([-12, 12])\n",
    "_ = ax.set_ylim([0, 0.25])"
   ]
  },
  {
   "cell_type": "code",
   "execution_count": null,
   "id": "953ace4c-954f-40fb-928f-11f1c8a66c2a",
   "metadata": {},
   "outputs": [],
   "source": [
    "ax.get_legend().remove()\n",
    "fig"
   ]
  },
  {
   "cell_type": "code",
   "execution_count": null,
   "id": "93abf5fa-c7e5-4089-ac8a-7e367b6c4fbf",
   "metadata": {},
   "outputs": [],
   "source": [
    "fig.savefig(\"figures/figure1.svg\", format=\"svg\")"
   ]
  },
  {
   "cell_type": "markdown",
   "id": "ba337e35-978b-4797-ab4d-d2172f434555",
   "metadata": {},
   "source": [
    "## Figure 2"
   ]
  },
  {
   "cell_type": "code",
   "execution_count": null,
   "id": "9b1e298e-2c64-49bf-b3b1-f90ca292df38",
   "metadata": {},
   "outputs": [],
   "source": [
    "synth_data"
   ]
  },
  {
   "cell_type": "markdown",
   "id": "204ef499-f12c-43fa-aff2-e8697ad1a7d9",
   "metadata": {},
   "source": [
    "# Synth From Paper"
   ]
  },
  {
   "cell_type": "markdown",
   "id": "b7605bfa-030c-42bf-9a13-670f1c26d768",
   "metadata": {},
   "source": [
    "## Get Fair Scores"
   ]
  },
  {
   "cell_type": "code",
   "execution_count": null,
   "id": "e7c34f39-1a65-4b35-bd6e-125eef480c85",
   "metadata": {},
   "outputs": [],
   "source": [
    "import pandas as pd\n",
    "import numpy as np\n",
    "from pathlib import Path\n",
    "\n",
    "# Load paper data (remove truncated data - it's calculated later anyways)\n",
    "synth_data_from_paper_filepath = Path(\"../prepared-data/synthetic/2groups/2022-01-12/dataset.csv\")\n",
    "data = pd.read_csv(synth_data_from_paper_filepath)\n",
    "\n",
    "group_names = {0: \"advantaged\", 1: \"disadvantaged\"}\n",
    "pred_score_column = \"pred_score\"\n",
    "score_stepsize = 0.1\n",
    "thetas = {0: np.array([1, 0, 0]), 1: np.array([1, 0, 0])}\n",
    "optimal_transport_regularization = 0.001\n",
    "plot_dir = Path(\"../results/synthetic/2groups/2022-01-12-notebook/\")"
   ]
  },
  {
   "cell_type": "code",
   "execution_count": null,
   "id": "8a2e2c25-8bee-445f-b027-e2f085d981ae",
   "metadata": {
    "scrolled": true
   },
   "outputs": [],
   "source": [
    "from faim.algorithm.faim import FairInterpolationMethod\n",
    "\n",
    "fair_interpolation_method = FairInterpolationMethod(\n",
    "    rawData=data,\n",
    "    group_names=group_names,\n",
    "    pred_score_column=pred_score_column,\n",
    "    score_stepsize=score_stepsize,\n",
    "    thetas=thetas,\n",
    "    regForOT=optimal_transport_regularization,\n",
    "    plot_dir=plot_dir,\n",
    "    plot=False,\n",
    ")\n",
    "results = fair_interpolation_method.run()"
   ]
  },
  {
   "cell_type": "markdown",
   "id": "986e819b-2978-49f9-95ad-77870140eb4c",
   "metadata": {},
   "source": [
    "## Boundary"
   ]
  },
  {
   "cell_type": "code",
   "execution_count": null,
   "id": "31bdc3b0-266d-4071-b6c0-f8132b5d9106",
   "metadata": {},
   "outputs": [],
   "source": [
    "results.plot(x=\"pred_score_truncated\", y=\"predictedLabel\", style='.', markersize=2, figsize=(3, 1), legend=False)"
   ]
  },
  {
   "cell_type": "code",
   "execution_count": null,
   "id": "1d459335-a356-4a76-a808-cca32ac5f365",
   "metadata": {},
   "outputs": [],
   "source": [
    "def find_boundary(results) -> float:\n",
    "    return (\n",
    "        results[results.predictedLabel==0].pred_score_truncated.max()\n",
    "        + results[results.predictedLabel==1].pred_score_truncated.min()\n",
    "    ) / 2\n",
    "    "
   ]
  },
  {
   "cell_type": "code",
   "execution_count": null,
   "id": "b1dcb922-dfb3-4d30-b9ed-32e1f5940205",
   "metadata": {},
   "outputs": [],
   "source": [
    "find_boundary(results)"
   ]
  },
  {
   "cell_type": "markdown",
   "id": "3dc03e47-a469-4f64-ab26-e30161378ebf",
   "metadata": {},
   "source": [
    "## Results Plots - Calibration Condition"
   ]
  },
  {
   "cell_type": "code",
   "execution_count": null,
   "id": "5db482b7-79ae-4070-8b7f-80ab8b65fa55",
   "metadata": {},
   "outputs": [],
   "source": [
    "import seaborn as sns\n",
    "import matplotlib.pyplot as plt\n",
    "\n",
    "sns.color_palette(\"tab10\")\n",
    "fig, (ax1, ax2) = plt.subplots(2, 1, sharex=True, figsize=(3, 5))\n",
    "\n",
    "sns.kdeplot(data=results, x=\"pred_score_truncated\", hue=\"group\", linestyle=\"--\", ax=ax1)\n",
    "sns.kdeplot(data=results, x=\"fairScore\", hue=\"group\", linestyle=\":\", ax=ax1)\n",
    "\n",
    "sns.scatterplot(data=results, x=\"pred_score_truncated\", y=\"fairScore\", hue=\"group\", s=8, ax=ax2)\n",
    "plt.plot([0, 1], [0, 1], 'k-', linewidth=1)\n",
    "\n",
    "for ax in (ax1, ax2):\n",
    "    ax.get_legend().remove()"
   ]
  },
  {
   "cell_type": "markdown",
   "id": "4c0618b1-bc51-4f68-acee-ec181a4c3bd5",
   "metadata": {},
   "source": [
    "## All Conditions"
   ]
  },
  {
   "cell_type": "code",
   "execution_count": null,
   "id": "9d7233a8-7da8-4f04-a0d8-2a139e2a8603",
   "metadata": {},
   "outputs": [],
   "source": [
    "thetas_by_condition = [\n",
    "    {0: np.array([1, 0, 0]), 1: np.array([1, 0, 0])},\n",
    "    {0: np.array([0, 1, 0]), 1: np.array([0, 1, 0])},\n",
    "    {0: np.array([0, 0, 1]), 1: np.array([0, 0, 1])},\n",
    "    {0: np.array([1, 1, 1]), 1: np.array([1, 1, 1])},\n",
    "]\n",
    "plot_dir_by_condition = [\n",
    "    Path(\"../results/synthetic/2groups/2022-01-12-notebook/1,0,0,1,0,0/\"),\n",
    "    Path(\"../results/synthetic/2groups/2022-01-12-notebook/0,1,0,0,1,0/\"),\n",
    "    Path(\"../results/synthetic/2groups/2022-01-12-notebook/0,0,1,0,0,1/\"),\n",
    "    Path(\"../results/synthetic/2groups/2022-01-12-notebook/1,1,1,1,1,1/\"),\n",
    "]\n",
    "\n",
    "results_by_condition = []\n",
    "for thetas, plot_dir in zip(theta_by_condition, plot_dir_by_condition):\n",
    "    fair_interpolation_method = FairInterpolationMethod(\n",
    "        rawData=data,\n",
    "        group_names=group_names,\n",
    "        pred_score_column=pred_score_column,\n",
    "        score_stepsize=score_stepsize,\n",
    "        thetas=thetas,\n",
    "        regForOT=optimal_transport_regularization,\n",
    "        plot_dir=plot_dir,\n",
    "        plot=False,\n",
    "    )\n",
    "    results_by_condition.append(fair_interpolation_method.run())"
   ]
  },
  {
   "cell_type": "code",
   "execution_count": null,
   "id": "fc12b1f2-fd15-4449-808a-835f8d7fabc8",
   "metadata": {},
   "outputs": [],
   "source": []
  },
  {
   "cell_type": "code",
   "execution_count": null,
   "id": "1b505f5e-6081-45a7-aaa6-03ab82ede3da",
   "metadata": {},
   "outputs": [],
   "source": []
  },
  {
   "cell_type": "code",
   "execution_count": null,
   "id": "97548100-b63c-4c84-ae69-2f4de9d98c24",
   "metadata": {},
   "outputs": [],
   "source": []
  }
 ],
 "metadata": {
  "kernelspec": {
   "display_name": "Python 3.12 (faim)",
   "language": "python",
   "name": "faim"
  },
  "language_info": {
   "codemirror_mode": {
    "name": "ipython",
    "version": 3
   },
   "file_extension": ".py",
   "mimetype": "text/x-python",
   "name": "python",
   "nbconvert_exporter": "python",
   "pygments_lexer": "ipython3",
   "version": "3.12.2"
  }
 },
 "nbformat": 4,
 "nbformat_minor": 5
}
